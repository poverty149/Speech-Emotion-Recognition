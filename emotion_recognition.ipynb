{
  "cells": [
    {
      "cell_type": "markdown",
      "metadata": {
        "id": "view-in-github",
        "colab_type": "text"
      },
      "source": [
        "<a href=\"https://colab.research.google.com/github/poverty149/Speech-Emotion-Recognition/blob/main/emotion_recognition.ipynb\" target=\"_parent\"><img src=\"https://colab.research.google.com/assets/colab-badge.svg\" alt=\"Open In Colab\"/></a>"
      ]
    },
    {
      "cell_type": "markdown",
      "metadata": {
        "id": "uZFpn9G-5Io4"
      },
      "source": [
        "## Data Processing"
      ],
      "id": "uZFpn9G-5Io4"
    },
    {
      "cell_type": "code",
      "execution_count": 9,
      "metadata": {
        "id": "d5230fbd"
      },
      "outputs": [],
      "source": [
        "#Importing Libraries\n",
        "import numpy as np \n",
        "import pandas as pd \n",
        "import os \n",
        "import librosa \n",
        "import wave \n",
        "import matplotlib.pyplot as plt \n",
        "\n",
        "\n",
        "from sklearn.model_selection import train_test_split \n",
        "from sklearn.neural_network import MLPClassifier \n",
        "from sklearn.metrics import accuracy_score \n",
        "\n",
        "import keras \n",
        "from tensorflow.keras.utils import to_categorical \n",
        "from tensorflow.keras.models import Sequential \n",
        "from keras.layers import * \n",
        "from tensorflow.keras.optimizers import RMSprop "
      ],
      "id": "d5230fbd"
    },
    {
      "cell_type": "code",
      "execution_count": 10,
      "metadata": {
        "colab": {
          "base_uri": "https://localhost:8080/"
        },
        "id": "-RUfT6T9Az_0",
        "outputId": "451aa9a9-3bbd-4cff-d6e6-df329d4c601e"
      },
      "outputs": [
        {
          "output_type": "stream",
          "name": "stdout",
          "text": [
            "Drive already mounted at /content/drive; to attempt to forcibly remount, call drive.mount(\"/content/drive\", force_remount=True).\n"
          ]
        }
      ],
      "source": [
        "from google.colab import drive\n",
        "drive.mount('/content/drive')"
      ],
      "id": "-RUfT6T9Az_0"
    },
    {
      "cell_type": "code",
      "execution_count": 11,
      "metadata": {
        "colab": {
          "base_uri": "https://localhost:8080/"
        },
        "id": "gLQ2MFTwBCwJ",
        "outputId": "15d2e459-1870-4950-85f0-86c55b683523"
      },
      "outputs": [
        {
          "output_type": "stream",
          "name": "stdout",
          "text": [
            "/content/drive/MyDrive\n"
          ]
        }
      ],
      "source": [
        "cd /content/drive/MyDrive"
      ],
      "id": "gLQ2MFTwBCwJ"
    },
    {
      "cell_type": "code",
      "execution_count": 12,
      "metadata": {
        "colab": {
          "base_uri": "https://localhost:8080/"
        },
        "id": "9Rn5Z_IyB9R7",
        "outputId": "5e53f24b-e40b-4478-98cf-dcc69f814a8b"
      },
      "outputs": [
        {
          "output_type": "stream",
          "name": "stdout",
          "text": [
            "Archive:  /content/drive/My Drive/archive.zip\n"
          ]
        }
      ],
      "source": [
        "!unzip -u \"/content/drive/My Drive/archive.zip\" -d \"/content/NewFolder\""
      ],
      "id": "9Rn5Z_IyB9R7"
    },
    {
      "cell_type": "code",
      "execution_count": 13,
      "metadata": {
        "colab": {
          "base_uri": "https://localhost:8080/"
        },
        "id": "dOdvFvRJCSL3",
        "outputId": "b37e17d4-caa9-439e-f4a9-955b0feaddad"
      },
      "outputs": [
        {
          "output_type": "stream",
          "name": "stdout",
          "text": [
            "/content\n"
          ]
        }
      ],
      "source": [
        "%cd /content"
      ],
      "id": "dOdvFvRJCSL3"
    },
    {
      "cell_type": "code",
      "execution_count": 14,
      "metadata": {
        "id": "972d6afd"
      },
      "outputs": [],
      "source": [
        "def extract_mfcc(wav_file_name):\n",
        "    #This function extracts mfcc features and obtain the mean of each dimension\n",
        "    \n",
        "    y, sr = librosa.load(wav_file_name,duration=3\n",
        "                                  ,offset=0.5)\n",
        "    #set n_mfcc = 40\n",
        "    mfccs = np.mean(librosa.feature.mfcc(y=y, sr=sr, n_mfcc=40).T,axis=0)\n",
        "    \n",
        "    return mfccs"
      ],
      "id": "972d6afd"
    },
    {
      "cell_type": "code",
      "execution_count": 15,
      "metadata": {
        "colab": {
          "base_uri": "https://localhost:8080/"
        },
        "id": "4cd41dff",
        "outputId": "ddb47daf-1a08-4f06-8817-a14d7ca2f33c"
      },
      "outputs": [
        {
          "output_type": "stream",
          "name": "stdout",
          "text": [
            "Finish Loading the Dataset.\n"
          ]
        }
      ],
      "source": [
        "##### load full radvess speech dataset #####\n",
        "radvess_speech_labels = [] # to save extracted label/file\n",
        "ravdess_speech_data = [] # to save extracted features/file\n",
        "\n",
        "for dirname, _, filenames in os.walk('NewFolder/'):\n",
        "    for filename in filenames:\n",
        "        # print(os.path.join(dirname, filename))\n",
        "        radvess_speech_labels.append(int(filename[7:8]) - 1) # the index 7 and 8 of the file name represent the emotion label\n",
        "        wav_file_name = os.path.join(dirname, filename)\n",
        "        ravdess_speech_data.append(extract_mfcc(wav_file_name)) # extract MFCC features/file\n",
        "        \n",
        "print(\"Finish Loading the Dataset.\")"
      ],
      "id": "4cd41dff"
    },
    {
      "cell_type": "code",
      "execution_count": 16,
      "metadata": {
        "colab": {
          "base_uri": "https://localhost:8080/"
        },
        "id": "8097b928",
        "outputId": "83251821-bcb5-4e35-9f39-4d795ce5928f"
      },
      "outputs": [
        {
          "output_type": "stream",
          "name": "stdout",
          "text": [
            "(2880,) (2880, 40) (2880, 8)\n"
          ]
        }
      ],
      "source": [
        "#### convert data and label to array\n",
        "ravdess_speech_data_array = np.asarray(ravdess_speech_data) # convert the input to an array\n",
        "ravdess_speech_label_array = np.array(radvess_speech_labels)\n",
        "ravdess_speech_label_array.shape # get tuple of array dimensions\n",
        "\n",
        "#### make categorical labels\n",
        "labels_categorical = to_categorical(ravdess_speech_label_array) # converts a class vector (integers) to binary class matrix\n",
        "ravdess_speech_data_array.shape\n",
        "labels_categorical.shape\n",
        "print(ravdess_speech_label_array.shape, ravdess_speech_data_array.shape, labels_categorical.shape)"
      ],
      "id": "8097b928"
    },
    {
      "cell_type": "code",
      "execution_count": 17,
      "metadata": {
        "id": "f5e0147e"
      },
      "outputs": [],
      "source": [
        "x_train,x_test,y_train,y_test= train_test_split(np.array(ravdess_speech_data_array),labels_categorical, test_size=0.20, random_state=9)"
      ],
      "id": "f5e0147e"
    },
    {
      "cell_type": "markdown",
      "metadata": {
        "id": "sZleF2J95VBS"
      },
      "source": [
        "## Model Training"
      ],
      "id": "sZleF2J95VBS"
    },
    {
      "cell_type": "code",
      "execution_count": 18,
      "metadata": {
        "id": "2841fe4a"
      },
      "outputs": [],
      "source": [
        "# Initialize the Multi Layer Perceptron Classifier\n",
        "model=MLPClassifier(alpha=0.01, batch_size=22, epsilon=1e-08, hidden_layer_sizes=(150,), learning_rate='adaptive', max_iter=400)"
      ],
      "id": "2841fe4a"
    },
    {
      "cell_type": "code",
      "execution_count": 19,
      "metadata": {
        "colab": {
          "base_uri": "https://localhost:8080/"
        },
        "id": "7feb9346",
        "outputId": "f3a0d5f6-940f-4f12-fcc4-2da052b81921"
      },
      "outputs": [
        {
          "output_type": "execute_result",
          "data": {
            "text/plain": [
              "MLPClassifier(alpha=0.01, batch_size=22, hidden_layer_sizes=(150,),\n",
              "              learning_rate='adaptive', max_iter=400)"
            ]
          },
          "metadata": {},
          "execution_count": 19
        }
      ],
      "source": [
        "# Train the model\n",
        "model.fit(x_train,y_train)"
      ],
      "id": "7feb9346"
    },
    {
      "cell_type": "code",
      "execution_count": 20,
      "metadata": {
        "id": "6135d89b"
      },
      "outputs": [],
      "source": [
        "# Predict for the test set\n",
        "y_pred=model.predict(x_test)"
      ],
      "id": "6135d89b"
    },
    {
      "cell_type": "code",
      "execution_count": 21,
      "metadata": {
        "colab": {
          "base_uri": "https://localhost:8080/"
        },
        "id": "be49f075",
        "outputId": "2f345b34-0c79-4589-d9cb-18fed1fac213"
      },
      "outputs": [
        {
          "output_type": "stream",
          "name": "stdout",
          "text": [
            "Accuracy: 60.59%\n"
          ]
        }
      ],
      "source": [
        "# Calculate the accuracy of our model\n",
        "accuracy=accuracy_score(y_true=y_test, y_pred=y_pred)\n",
        "# Print the accuracy\n",
        "print(\"Accuracy: {:.2f}%\".format(accuracy*100))"
      ],
      "id": "be49f075"
    },
    {
      "cell_type": "code",
      "execution_count": 22,
      "metadata": {
        "id": "ec9cea05"
      },
      "outputs": [],
      "source": [
        "# Split the training, validating, and testing sets\n",
        "number_of_samples = ravdess_speech_data_array.shape[0]\n",
        "training_samples = int(number_of_samples * 0.6)\n",
        "validation_samples = int(number_of_samples * 0.4)\n",
        "test_samples = int(number_of_samples * 0.01)"
      ],
      "id": "ec9cea05"
    },
    {
      "cell_type": "code",
      "execution_count": 23,
      "metadata": {
        "id": "173eecf8"
      },
      "outputs": [],
      "source": [
        "# Define the LSTM model\n",
        "def create_model_LSTM():\n",
        "    model = Sequential()\n",
        "    model.add(LSTM(128, return_sequences=False, input_shape=(40, 1)))\n",
        "    model.add(Dense(64))\n",
        "    model.add(Dropout(0.3))\n",
        "    model.add(Activation('relu'))\n",
        "    model.add(Dense(32))\n",
        "    model.add(Dropout(0.3))\n",
        "    model.add(Activation('relu'))\n",
        "    model.add(Dense(8))\n",
        "    model.add(Activation('softmax'))\n",
        "    \n",
        "    # Configures the model for training\n",
        "    model.compile(loss='categorical_crossentropy', optimizer='Adam', metrics=['accuracy'])\n",
        "    return model"
      ],
      "id": "173eecf8"
    },
    {
      "cell_type": "code",
      "execution_count": 24,
      "metadata": {
        "id": "a2ad6f9c",
        "colab": {
          "base_uri": "https://localhost:8080/"
        },
        "outputId": "e9810eab-f4fe-46d0-f1d3-133f2d130c26"
      },
      "outputs": [
        {
          "output_type": "stream",
          "name": "stdout",
          "text": [
            "Epoch 1/150\n",
            "72/72 [==============================] - 6s 51ms/step - loss: 2.0559 - accuracy: 0.1589 - val_loss: 2.0367 - val_accuracy: 0.1632\n",
            "Epoch 2/150\n",
            "72/72 [==============================] - 3s 41ms/step - loss: 1.9992 - accuracy: 0.2066 - val_loss: 1.9558 - val_accuracy: 0.2569\n",
            "Epoch 3/150\n",
            "72/72 [==============================] - 3s 41ms/step - loss: 1.9422 - accuracy: 0.2426 - val_loss: 1.9144 - val_accuracy: 0.2378\n",
            "Epoch 4/150\n",
            "72/72 [==============================] - 3s 41ms/step - loss: 1.8878 - accuracy: 0.2700 - val_loss: 1.9175 - val_accuracy: 0.2552\n",
            "Epoch 5/150\n",
            "72/72 [==============================] - 3s 41ms/step - loss: 1.8567 - accuracy: 0.2869 - val_loss: 1.8710 - val_accuracy: 0.2639\n",
            "Epoch 6/150\n",
            "72/72 [==============================] - 3s 41ms/step - loss: 1.7989 - accuracy: 0.3203 - val_loss: 1.8506 - val_accuracy: 0.2639\n",
            "Epoch 7/150\n",
            "72/72 [==============================] - 3s 41ms/step - loss: 1.8029 - accuracy: 0.3125 - val_loss: 1.8316 - val_accuracy: 0.2639\n",
            "Epoch 8/150\n",
            "72/72 [==============================] - 3s 41ms/step - loss: 1.7793 - accuracy: 0.3168 - val_loss: 1.8579 - val_accuracy: 0.2569\n",
            "Epoch 9/150\n",
            "72/72 [==============================] - 3s 41ms/step - loss: 1.7634 - accuracy: 0.3273 - val_loss: 1.8225 - val_accuracy: 0.2969\n",
            "Epoch 10/150\n",
            "72/72 [==============================] - 3s 41ms/step - loss: 1.7624 - accuracy: 0.3190 - val_loss: 1.7869 - val_accuracy: 0.3021\n",
            "Epoch 11/150\n",
            "72/72 [==============================] - 3s 41ms/step - loss: 1.7278 - accuracy: 0.3472 - val_loss: 1.7798 - val_accuracy: 0.2934\n",
            "Epoch 12/150\n",
            "72/72 [==============================] - 3s 41ms/step - loss: 1.7053 - accuracy: 0.3416 - val_loss: 1.7952 - val_accuracy: 0.2882\n",
            "Epoch 13/150\n",
            "72/72 [==============================] - 3s 42ms/step - loss: 1.6930 - accuracy: 0.3529 - val_loss: 1.7515 - val_accuracy: 0.2934\n",
            "Epoch 14/150\n",
            "72/72 [==============================] - 3s 40ms/step - loss: 1.6631 - accuracy: 0.3668 - val_loss: 1.7214 - val_accuracy: 0.3420\n",
            "Epoch 15/150\n",
            "72/72 [==============================] - 3s 41ms/step - loss: 1.6741 - accuracy: 0.3633 - val_loss: 1.7642 - val_accuracy: 0.3316\n",
            "Epoch 16/150\n",
            "72/72 [==============================] - 3s 42ms/step - loss: 1.6074 - accuracy: 0.4045 - val_loss: 1.7094 - val_accuracy: 0.3247\n",
            "Epoch 17/150\n",
            "72/72 [==============================] - 3s 42ms/step - loss: 1.5951 - accuracy: 0.3971 - val_loss: 1.6652 - val_accuracy: 0.3663\n",
            "Epoch 18/150\n",
            "72/72 [==============================] - 3s 42ms/step - loss: 1.5605 - accuracy: 0.4184 - val_loss: 1.6095 - val_accuracy: 0.3785\n",
            "Epoch 19/150\n",
            "72/72 [==============================] - 3s 41ms/step - loss: 1.5219 - accuracy: 0.4319 - val_loss: 1.6321 - val_accuracy: 0.3750\n",
            "Epoch 20/150\n",
            "72/72 [==============================] - 3s 41ms/step - loss: 1.4847 - accuracy: 0.4427 - val_loss: 1.5566 - val_accuracy: 0.4323\n",
            "Epoch 21/150\n",
            "72/72 [==============================] - 3s 42ms/step - loss: 1.4605 - accuracy: 0.4618 - val_loss: 1.5544 - val_accuracy: 0.4271\n",
            "Epoch 22/150\n",
            "72/72 [==============================] - 3s 41ms/step - loss: 1.4231 - accuracy: 0.4562 - val_loss: 1.5058 - val_accuracy: 0.4410\n",
            "Epoch 23/150\n",
            "72/72 [==============================] - 3s 41ms/step - loss: 1.4129 - accuracy: 0.4822 - val_loss: 1.5773 - val_accuracy: 0.4045\n",
            "Epoch 24/150\n",
            "72/72 [==============================] - 3s 41ms/step - loss: 1.3661 - accuracy: 0.4939 - val_loss: 1.5240 - val_accuracy: 0.4601\n",
            "Epoch 25/150\n",
            "72/72 [==============================] - 3s 41ms/step - loss: 1.3611 - accuracy: 0.4926 - val_loss: 1.4698 - val_accuracy: 0.4236\n",
            "Epoch 26/150\n",
            "72/72 [==============================] - 3s 40ms/step - loss: 1.2872 - accuracy: 0.5182 - val_loss: 1.4468 - val_accuracy: 0.4601\n",
            "Epoch 27/150\n",
            "72/72 [==============================] - 4s 50ms/step - loss: 1.2591 - accuracy: 0.5265 - val_loss: 1.4193 - val_accuracy: 0.4740\n",
            "Epoch 28/150\n",
            "72/72 [==============================] - 3s 41ms/step - loss: 1.2241 - accuracy: 0.5373 - val_loss: 1.3875 - val_accuracy: 0.4635\n",
            "Epoch 29/150\n",
            "72/72 [==============================] - 3s 41ms/step - loss: 1.1935 - accuracy: 0.5603 - val_loss: 1.3800 - val_accuracy: 0.4965\n",
            "Epoch 30/150\n",
            "72/72 [==============================] - 3s 41ms/step - loss: 1.1625 - accuracy: 0.5625 - val_loss: 1.3362 - val_accuracy: 0.4983\n",
            "Epoch 31/150\n",
            "72/72 [==============================] - 3s 40ms/step - loss: 1.1242 - accuracy: 0.5712 - val_loss: 1.3861 - val_accuracy: 0.5000\n",
            "Epoch 32/150\n",
            "72/72 [==============================] - 3s 40ms/step - loss: 1.1299 - accuracy: 0.5790 - val_loss: 1.3401 - val_accuracy: 0.5000\n",
            "Epoch 33/150\n",
            "72/72 [==============================] - 4s 53ms/step - loss: 1.0707 - accuracy: 0.6003 - val_loss: 1.2807 - val_accuracy: 0.5278\n",
            "Epoch 34/150\n",
            "72/72 [==============================] - 3s 48ms/step - loss: 1.0398 - accuracy: 0.6042 - val_loss: 1.3058 - val_accuracy: 0.5052\n",
            "Epoch 35/150\n",
            "72/72 [==============================] - 3s 40ms/step - loss: 1.0059 - accuracy: 0.6207 - val_loss: 1.2416 - val_accuracy: 0.5330\n",
            "Epoch 36/150\n",
            "72/72 [==============================] - 3s 40ms/step - loss: 0.9285 - accuracy: 0.6597 - val_loss: 1.2137 - val_accuracy: 0.5660\n",
            "Epoch 37/150\n",
            "72/72 [==============================] - 3s 40ms/step - loss: 0.8887 - accuracy: 0.6719 - val_loss: 1.3551 - val_accuracy: 0.5278\n",
            "Epoch 38/150\n",
            "72/72 [==============================] - 3s 40ms/step - loss: 0.9276 - accuracy: 0.6615 - val_loss: 1.1680 - val_accuracy: 0.5816\n",
            "Epoch 39/150\n",
            "72/72 [==============================] - 3s 41ms/step - loss: 0.8442 - accuracy: 0.6758 - val_loss: 1.1831 - val_accuracy: 0.5660\n",
            "Epoch 40/150\n",
            "72/72 [==============================] - 3s 41ms/step - loss: 0.8157 - accuracy: 0.7057 - val_loss: 1.1216 - val_accuracy: 0.6146\n",
            "Epoch 41/150\n",
            "72/72 [==============================] - 3s 40ms/step - loss: 0.7626 - accuracy: 0.7257 - val_loss: 1.1594 - val_accuracy: 0.6076\n",
            "Epoch 42/150\n",
            "72/72 [==============================] - 3s 41ms/step - loss: 0.7048 - accuracy: 0.7292 - val_loss: 1.1408 - val_accuracy: 0.5990\n",
            "Epoch 43/150\n",
            "72/72 [==============================] - 3s 41ms/step - loss: 0.6815 - accuracy: 0.7448 - val_loss: 1.1915 - val_accuracy: 0.6337\n",
            "Epoch 44/150\n",
            "72/72 [==============================] - 3s 41ms/step - loss: 0.6926 - accuracy: 0.7439 - val_loss: 1.1582 - val_accuracy: 0.6372\n",
            "Epoch 45/150\n",
            "72/72 [==============================] - 3s 40ms/step - loss: 0.6940 - accuracy: 0.7470 - val_loss: 1.0956 - val_accuracy: 0.6424\n",
            "Epoch 46/150\n",
            "72/72 [==============================] - 3s 40ms/step - loss: 0.6820 - accuracy: 0.7574 - val_loss: 1.1008 - val_accuracy: 0.6337\n",
            "Epoch 47/150\n",
            "72/72 [==============================] - 3s 40ms/step - loss: 0.5808 - accuracy: 0.7869 - val_loss: 1.0927 - val_accuracy: 0.6597\n",
            "Epoch 48/150\n",
            "72/72 [==============================] - 3s 40ms/step - loss: 0.6086 - accuracy: 0.7878 - val_loss: 1.0899 - val_accuracy: 0.6684\n",
            "Epoch 49/150\n",
            "72/72 [==============================] - 3s 40ms/step - loss: 0.5314 - accuracy: 0.8116 - val_loss: 1.0014 - val_accuracy: 0.6962\n",
            "Epoch 50/150\n",
            "72/72 [==============================] - 3s 40ms/step - loss: 0.5001 - accuracy: 0.8194 - val_loss: 1.0660 - val_accuracy: 0.6875\n",
            "Epoch 51/150\n",
            "72/72 [==============================] - 3s 40ms/step - loss: 0.4453 - accuracy: 0.8438 - val_loss: 1.1654 - val_accuracy: 0.6910\n",
            "Epoch 52/150\n",
            "72/72 [==============================] - 3s 40ms/step - loss: 0.4413 - accuracy: 0.8464 - val_loss: 1.1569 - val_accuracy: 0.6944\n",
            "Epoch 53/150\n",
            "72/72 [==============================] - 3s 40ms/step - loss: 0.6432 - accuracy: 0.7821 - val_loss: 1.3095 - val_accuracy: 0.6354\n",
            "Epoch 54/150\n",
            "72/72 [==============================] - 3s 41ms/step - loss: 0.5086 - accuracy: 0.8147 - val_loss: 0.9519 - val_accuracy: 0.7361\n",
            "Epoch 55/150\n",
            "72/72 [==============================] - 3s 40ms/step - loss: 0.4093 - accuracy: 0.8607 - val_loss: 1.0735 - val_accuracy: 0.7257\n",
            "Epoch 56/150\n",
            "72/72 [==============================] - 3s 41ms/step - loss: 0.4144 - accuracy: 0.8516 - val_loss: 0.9236 - val_accuracy: 0.7535\n",
            "Epoch 57/150\n",
            "72/72 [==============================] - 3s 40ms/step - loss: 0.3771 - accuracy: 0.8728 - val_loss: 1.0434 - val_accuracy: 0.7292\n",
            "Epoch 58/150\n",
            "72/72 [==============================] - 3s 40ms/step - loss: 0.3191 - accuracy: 0.8859 - val_loss: 0.9972 - val_accuracy: 0.7674\n",
            "Epoch 59/150\n",
            "72/72 [==============================] - 3s 40ms/step - loss: 0.2793 - accuracy: 0.9058 - val_loss: 1.1227 - val_accuracy: 0.7604\n",
            "Epoch 60/150\n",
            "72/72 [==============================] - 3s 41ms/step - loss: 0.4299 - accuracy: 0.8641 - val_loss: 0.9739 - val_accuracy: 0.7691\n",
            "Epoch 61/150\n",
            "72/72 [==============================] - 3s 40ms/step - loss: 0.3172 - accuracy: 0.8971 - val_loss: 0.9513 - val_accuracy: 0.7778\n",
            "Epoch 62/150\n",
            "72/72 [==============================] - 3s 40ms/step - loss: 0.3364 - accuracy: 0.8932 - val_loss: 1.5201 - val_accuracy: 0.7066\n",
            "Epoch 63/150\n",
            "72/72 [==============================] - 3s 40ms/step - loss: 0.5076 - accuracy: 0.8455 - val_loss: 1.0201 - val_accuracy: 0.7552\n",
            "Epoch 64/150\n",
            "72/72 [==============================] - 3s 39ms/step - loss: 0.3220 - accuracy: 0.8898 - val_loss: 0.9249 - val_accuracy: 0.7882\n",
            "Epoch 65/150\n",
            "72/72 [==============================] - 3s 41ms/step - loss: 0.2487 - accuracy: 0.9180 - val_loss: 0.9495 - val_accuracy: 0.8090\n",
            "Epoch 66/150\n",
            "72/72 [==============================] - 3s 40ms/step - loss: 0.2603 - accuracy: 0.9162 - val_loss: 0.9926 - val_accuracy: 0.7951\n",
            "Epoch 67/150\n",
            "72/72 [==============================] - 3s 40ms/step - loss: 0.2994 - accuracy: 0.9067 - val_loss: 0.8522 - val_accuracy: 0.8056\n",
            "Epoch 68/150\n",
            "72/72 [==============================] - 3s 40ms/step - loss: 0.4157 - accuracy: 0.8720 - val_loss: 0.9071 - val_accuracy: 0.7708\n",
            "Epoch 69/150\n",
            "72/72 [==============================] - 3s 40ms/step - loss: 0.2617 - accuracy: 0.9253 - val_loss: 0.8658 - val_accuracy: 0.8212\n",
            "Epoch 70/150\n",
            "72/72 [==============================] - 3s 41ms/step - loss: 0.1909 - accuracy: 0.9405 - val_loss: 0.9001 - val_accuracy: 0.8299\n",
            "Epoch 71/150\n",
            "72/72 [==============================] - 3s 41ms/step - loss: 0.2045 - accuracy: 0.9293 - val_loss: 1.0256 - val_accuracy: 0.8316\n",
            "Epoch 72/150\n",
            "72/72 [==============================] - 3s 40ms/step - loss: 0.2428 - accuracy: 0.9319 - val_loss: 0.9091 - val_accuracy: 0.8212\n",
            "Epoch 73/150\n",
            "72/72 [==============================] - 3s 40ms/step - loss: 0.1799 - accuracy: 0.9384 - val_loss: 0.9014 - val_accuracy: 0.8403\n",
            "Epoch 74/150\n",
            "72/72 [==============================] - 3s 41ms/step - loss: 0.1457 - accuracy: 0.9492 - val_loss: 1.0102 - val_accuracy: 0.8299\n",
            "Epoch 75/150\n",
            "72/72 [==============================] - 3s 41ms/step - loss: 0.1225 - accuracy: 0.9592 - val_loss: 1.0360 - val_accuracy: 0.8420\n",
            "Epoch 76/150\n",
            "72/72 [==============================] - 3s 40ms/step - loss: 0.1063 - accuracy: 0.9688 - val_loss: 1.1276 - val_accuracy: 0.8403\n",
            "Epoch 77/150\n",
            "72/72 [==============================] - 3s 40ms/step - loss: 0.1165 - accuracy: 0.9618 - val_loss: 1.1578 - val_accuracy: 0.8524\n",
            "Epoch 78/150\n",
            "72/72 [==============================] - 3s 40ms/step - loss: 0.2184 - accuracy: 0.9319 - val_loss: 1.3951 - val_accuracy: 0.7656\n",
            "Epoch 79/150\n",
            "72/72 [==============================] - 3s 40ms/step - loss: 0.3716 - accuracy: 0.8924 - val_loss: 1.4308 - val_accuracy: 0.7222\n",
            "Epoch 80/150\n",
            "72/72 [==============================] - 3s 40ms/step - loss: 0.3126 - accuracy: 0.9032 - val_loss: 0.9829 - val_accuracy: 0.8281\n",
            "Epoch 81/150\n",
            "72/72 [==============================] - 3s 40ms/step - loss: 0.1949 - accuracy: 0.9410 - val_loss: 0.9967 - val_accuracy: 0.8299\n",
            "Epoch 82/150\n",
            "72/72 [==============================] - 3s 40ms/step - loss: 0.2325 - accuracy: 0.9453 - val_loss: 1.1157 - val_accuracy: 0.7830\n",
            "Epoch 83/150\n",
            "72/72 [==============================] - 3s 40ms/step - loss: 0.2168 - accuracy: 0.9332 - val_loss: 0.9730 - val_accuracy: 0.8438\n",
            "Epoch 84/150\n",
            "72/72 [==============================] - 3s 41ms/step - loss: 0.1203 - accuracy: 0.9657 - val_loss: 0.9674 - val_accuracy: 0.8559\n",
            "Epoch 85/150\n",
            "72/72 [==============================] - 3s 40ms/step - loss: 0.1066 - accuracy: 0.9735 - val_loss: 1.0000 - val_accuracy: 0.8507\n",
            "Epoch 86/150\n",
            "72/72 [==============================] - 3s 40ms/step - loss: 0.1202 - accuracy: 0.9588 - val_loss: 0.9079 - val_accuracy: 0.8594\n",
            "Epoch 87/150\n",
            "72/72 [==============================] - 3s 41ms/step - loss: 0.0974 - accuracy: 0.9679 - val_loss: 1.2185 - val_accuracy: 0.8177\n",
            "Epoch 88/150\n",
            "72/72 [==============================] - 3s 41ms/step - loss: 0.1017 - accuracy: 0.9670 - val_loss: 1.1749 - val_accuracy: 0.8385\n",
            "Epoch 89/150\n",
            "72/72 [==============================] - 3s 40ms/step - loss: 0.1690 - accuracy: 0.9462 - val_loss: 1.0767 - val_accuracy: 0.8438\n",
            "Epoch 90/150\n",
            "72/72 [==============================] - 3s 41ms/step - loss: 0.2483 - accuracy: 0.9410 - val_loss: 1.2175 - val_accuracy: 0.7969\n",
            "Epoch 91/150\n",
            "72/72 [==============================] - 3s 41ms/step - loss: 0.2281 - accuracy: 0.9332 - val_loss: 1.0058 - val_accuracy: 0.8142\n",
            "Epoch 92/150\n",
            "72/72 [==============================] - 3s 41ms/step - loss: 0.1363 - accuracy: 0.9622 - val_loss: 0.8669 - val_accuracy: 0.8698\n",
            "Epoch 93/150\n",
            "72/72 [==============================] - 3s 40ms/step - loss: 0.0926 - accuracy: 0.9753 - val_loss: 0.9032 - val_accuracy: 0.8576\n",
            "Epoch 94/150\n",
            "72/72 [==============================] - 3s 40ms/step - loss: 0.1080 - accuracy: 0.9635 - val_loss: 0.9738 - val_accuracy: 0.8594\n",
            "Epoch 95/150\n",
            "72/72 [==============================] - 3s 41ms/step - loss: 0.1642 - accuracy: 0.9510 - val_loss: 1.0388 - val_accuracy: 0.8316\n",
            "Epoch 96/150\n",
            "72/72 [==============================] - 3s 40ms/step - loss: 0.0863 - accuracy: 0.9779 - val_loss: 1.0313 - val_accuracy: 0.8611\n",
            "Epoch 97/150\n",
            "72/72 [==============================] - 3s 41ms/step - loss: 0.0780 - accuracy: 0.9787 - val_loss: 1.0233 - val_accuracy: 0.8403\n",
            "Epoch 98/150\n",
            "72/72 [==============================] - 3s 41ms/step - loss: 0.0802 - accuracy: 0.9792 - val_loss: 0.9867 - val_accuracy: 0.8750\n",
            "Epoch 99/150\n",
            "72/72 [==============================] - 3s 40ms/step - loss: 0.0929 - accuracy: 0.9735 - val_loss: 1.0776 - val_accuracy: 0.8559\n",
            "Epoch 100/150\n",
            "72/72 [==============================] - 3s 41ms/step - loss: 0.0740 - accuracy: 0.9779 - val_loss: 1.0174 - val_accuracy: 0.8472\n",
            "Epoch 101/150\n",
            "72/72 [==============================] - 3s 41ms/step - loss: 0.0803 - accuracy: 0.9757 - val_loss: 1.3111 - val_accuracy: 0.8403\n",
            "Epoch 102/150\n",
            "72/72 [==============================] - 3s 40ms/step - loss: 0.1725 - accuracy: 0.9544 - val_loss: 1.2091 - val_accuracy: 0.8142\n",
            "Epoch 103/150\n",
            "72/72 [==============================] - 3s 41ms/step - loss: 0.5543 - accuracy: 0.8633 - val_loss: 1.0347 - val_accuracy: 0.7622\n",
            "Epoch 104/150\n",
            "72/72 [==============================] - 3s 40ms/step - loss: 0.2400 - accuracy: 0.9362 - val_loss: 0.8525 - val_accuracy: 0.8299\n",
            "Epoch 105/150\n",
            "72/72 [==============================] - 3s 41ms/step - loss: 0.1188 - accuracy: 0.9657 - val_loss: 0.8714 - val_accuracy: 0.8594\n",
            "Epoch 106/150\n",
            "72/72 [==============================] - 3s 40ms/step - loss: 0.0729 - accuracy: 0.9835 - val_loss: 0.9941 - val_accuracy: 0.8646\n",
            "Epoch 107/150\n",
            "72/72 [==============================] - 3s 40ms/step - loss: 0.0609 - accuracy: 0.9844 - val_loss: 0.9749 - val_accuracy: 0.8663\n",
            "Epoch 108/150\n",
            "72/72 [==============================] - 3s 41ms/step - loss: 0.0531 - accuracy: 0.9848 - val_loss: 1.0015 - val_accuracy: 0.8681\n",
            "Epoch 109/150\n",
            "72/72 [==============================] - 3s 40ms/step - loss: 0.0461 - accuracy: 0.9891 - val_loss: 1.0764 - val_accuracy: 0.8628\n",
            "Epoch 110/150\n",
            "72/72 [==============================] - 3s 40ms/step - loss: 0.0404 - accuracy: 0.9874 - val_loss: 1.0713 - val_accuracy: 0.8524\n",
            "Epoch 111/150\n",
            "72/72 [==============================] - 3s 40ms/step - loss: 0.0910 - accuracy: 0.9761 - val_loss: 0.9532 - val_accuracy: 0.8663\n",
            "Epoch 112/150\n",
            "72/72 [==============================] - 3s 41ms/step - loss: 0.0682 - accuracy: 0.9792 - val_loss: 1.0356 - val_accuracy: 0.8715\n",
            "Epoch 113/150\n",
            "72/72 [==============================] - 3s 41ms/step - loss: 0.1040 - accuracy: 0.9748 - val_loss: 1.2597 - val_accuracy: 0.8264\n",
            "Epoch 114/150\n",
            "72/72 [==============================] - 3s 41ms/step - loss: 0.1471 - accuracy: 0.9570 - val_loss: 1.1284 - val_accuracy: 0.8524\n",
            "Epoch 115/150\n",
            "72/72 [==============================] - 3s 42ms/step - loss: 0.0887 - accuracy: 0.9761 - val_loss: 1.1731 - val_accuracy: 0.8490\n",
            "Epoch 116/150\n",
            "72/72 [==============================] - 3s 41ms/step - loss: 0.3800 - accuracy: 0.9089 - val_loss: 1.0191 - val_accuracy: 0.8021\n",
            "Epoch 117/150\n",
            "72/72 [==============================] - 3s 41ms/step - loss: 0.1657 - accuracy: 0.9540 - val_loss: 1.0066 - val_accuracy: 0.8524\n",
            "Epoch 118/150\n",
            "72/72 [==============================] - 3s 42ms/step - loss: 0.0874 - accuracy: 0.9770 - val_loss: 1.0550 - val_accuracy: 0.8403\n",
            "Epoch 119/150\n",
            "72/72 [==============================] - 3s 42ms/step - loss: 0.0740 - accuracy: 0.9792 - val_loss: 1.0054 - val_accuracy: 0.8524\n",
            "Epoch 120/150\n",
            "72/72 [==============================] - 3s 41ms/step - loss: 0.0826 - accuracy: 0.9744 - val_loss: 0.8770 - val_accuracy: 0.8576\n",
            "Epoch 121/150\n",
            "72/72 [==============================] - 3s 40ms/step - loss: 0.0649 - accuracy: 0.9852 - val_loss: 1.0324 - val_accuracy: 0.8663\n",
            "Epoch 122/150\n",
            "72/72 [==============================] - 3s 41ms/step - loss: 0.0414 - accuracy: 0.9887 - val_loss: 1.1146 - val_accuracy: 0.8698\n",
            "Epoch 123/150\n",
            "72/72 [==============================] - 3s 41ms/step - loss: 0.0347 - accuracy: 0.9922 - val_loss: 1.0435 - val_accuracy: 0.8715\n",
            "Epoch 124/150\n",
            "72/72 [==============================] - 3s 41ms/step - loss: 0.0252 - accuracy: 0.9935 - val_loss: 1.1398 - val_accuracy: 0.8715\n",
            "Epoch 125/150\n",
            "72/72 [==============================] - 3s 41ms/step - loss: 0.0235 - accuracy: 0.9948 - val_loss: 1.1754 - val_accuracy: 0.8646\n",
            "Epoch 126/150\n",
            "72/72 [==============================] - 3s 41ms/step - loss: 0.0251 - accuracy: 0.9935 - val_loss: 1.1778 - val_accuracy: 0.8681\n",
            "Epoch 127/150\n",
            "72/72 [==============================] - 3s 41ms/step - loss: 0.0358 - accuracy: 0.9896 - val_loss: 1.1877 - val_accuracy: 0.8750\n",
            "Epoch 128/150\n",
            "72/72 [==============================] - 3s 41ms/step - loss: 0.0265 - accuracy: 0.9922 - val_loss: 1.1858 - val_accuracy: 0.8750\n",
            "Epoch 129/150\n",
            "72/72 [==============================] - 3s 41ms/step - loss: 0.0210 - accuracy: 0.9952 - val_loss: 1.2920 - val_accuracy: 0.8715\n",
            "Epoch 130/150\n",
            "72/72 [==============================] - 3s 42ms/step - loss: 0.0163 - accuracy: 0.9965 - val_loss: 1.2923 - val_accuracy: 0.8750\n",
            "Epoch 131/150\n",
            "72/72 [==============================] - 3s 42ms/step - loss: 0.0178 - accuracy: 0.9974 - val_loss: 1.3861 - val_accuracy: 0.8733\n",
            "Epoch 132/150\n",
            "72/72 [==============================] - 3s 41ms/step - loss: 0.4506 - accuracy: 0.9080 - val_loss: 1.4962 - val_accuracy: 0.7344\n",
            "Epoch 133/150\n",
            "72/72 [==============================] - 3s 41ms/step - loss: 0.5170 - accuracy: 0.8594 - val_loss: 0.8116 - val_accuracy: 0.8264\n",
            "Epoch 134/150\n",
            "72/72 [==============================] - 3s 41ms/step - loss: 0.1446 - accuracy: 0.9631 - val_loss: 0.8026 - val_accuracy: 0.8681\n",
            "Epoch 135/150\n",
            "72/72 [==============================] - 3s 41ms/step - loss: 0.1487 - accuracy: 0.9640 - val_loss: 0.8412 - val_accuracy: 0.8750\n",
            "Epoch 136/150\n",
            "72/72 [==============================] - 3s 41ms/step - loss: 0.0854 - accuracy: 0.9774 - val_loss: 0.8757 - val_accuracy: 0.8924\n",
            "Epoch 137/150\n",
            "72/72 [==============================] - 3s 41ms/step - loss: 0.0583 - accuracy: 0.9865 - val_loss: 0.8872 - val_accuracy: 0.8889\n",
            "Epoch 138/150\n",
            "72/72 [==============================] - 3s 41ms/step - loss: 0.0464 - accuracy: 0.9878 - val_loss: 0.9727 - val_accuracy: 0.8924\n",
            "Epoch 139/150\n",
            "72/72 [==============================] - 3s 41ms/step - loss: 0.0373 - accuracy: 0.9918 - val_loss: 1.0349 - val_accuracy: 0.8854\n",
            "Epoch 140/150\n",
            "72/72 [==============================] - 3s 40ms/step - loss: 0.0241 - accuracy: 0.9957 - val_loss: 1.0616 - val_accuracy: 0.8854\n",
            "Epoch 141/150\n",
            "72/72 [==============================] - 3s 41ms/step - loss: 0.0282 - accuracy: 0.9909 - val_loss: 1.0501 - val_accuracy: 0.8733\n",
            "Epoch 142/150\n",
            "72/72 [==============================] - 3s 41ms/step - loss: 0.3792 - accuracy: 0.9171 - val_loss: 1.0681 - val_accuracy: 0.8351\n",
            "Epoch 143/150\n",
            "72/72 [==============================] - 3s 41ms/step - loss: 0.2292 - accuracy: 0.9410 - val_loss: 0.9530 - val_accuracy: 0.8281\n",
            "Epoch 144/150\n",
            "72/72 [==============================] - 3s 41ms/step - loss: 0.1095 - accuracy: 0.9692 - val_loss: 0.7615 - val_accuracy: 0.8854\n",
            "Epoch 145/150\n",
            "72/72 [==============================] - 3s 42ms/step - loss: 0.0467 - accuracy: 0.9883 - val_loss: 0.9539 - val_accuracy: 0.8733\n",
            "Epoch 146/150\n",
            "72/72 [==============================] - 3s 42ms/step - loss: 0.0400 - accuracy: 0.9918 - val_loss: 0.9253 - val_accuracy: 0.8785\n",
            "Epoch 147/150\n",
            "72/72 [==============================] - 3s 41ms/step - loss: 0.0298 - accuracy: 0.9922 - val_loss: 0.9929 - val_accuracy: 0.8698\n",
            "Epoch 148/150\n",
            "72/72 [==============================] - 3s 41ms/step - loss: 0.0370 - accuracy: 0.9883 - val_loss: 1.0314 - val_accuracy: 0.8715\n",
            "Epoch 149/150\n",
            "72/72 [==============================] - 3s 40ms/step - loss: 0.0692 - accuracy: 0.9813 - val_loss: 1.2551 - val_accuracy: 0.8490\n",
            "Epoch 150/150\n",
            "72/72 [==============================] - 3s 41ms/step - loss: 0.1444 - accuracy: 0.9627 - val_loss: 1.3600 - val_accuracy: 0.7899\n"
          ]
        }
      ],
      "source": [
        "### train using LSTM model\n",
        "##import os\n",
        "os.environ['KMP_WARNINGS'] = 'off'\n",
        "model_A = create_model_LSTM()\n",
        "history = model_A.fit(np.expand_dims(x_train,-1), y_train, validation_data=(np.expand_dims(x_test, -1), y_test),\n",
        "                      epochs=150, batch_size = 32)"
      ],
      "id": "a2ad6f9c"
    },
    {
      "cell_type": "code",
      "execution_count": 25,
      "metadata": {
        "id": "5d98a71d",
        "colab": {
          "base_uri": "https://localhost:8080/",
          "height": 295
        },
        "outputId": "844cfa4e-a44c-481c-d173-da0aaf60c249"
      },
      "outputs": [
        {
          "output_type": "display_data",
          "data": {
            "image/png": "[encoded data removed]",
            "text/plain": [
              "<Figure size 432x288 with 1 Axes>"
            ]
          },
          "metadata": {
            "needs_background": "light"
          }
        }
      ],
      "source": [
        "### loss plots using LSTM model\n",
        "loss = history.history['loss']\n",
        "val_loss = history.history['val_loss']\n",
        "\n",
        "epochs = range(1, len(loss) + 1)\n",
        "\n",
        "plt.plot(epochs, loss, 'ro', label='Training Loss')\n",
        "plt.plot(epochs, val_loss, 'b', label='Validation Loss')\n",
        "plt.title('Training and Validation Loss')\n",
        "plt.xlabel('Epochs')\n",
        "plt.ylabel('Loss')\n",
        "plt.legend()\n",
        "\n",
        "plt.show()"
      ],
      "id": "5d98a71d"
    },
    {
      "cell_type": "code",
      "execution_count": 26,
      "metadata": {
        "id": "6ef1eb82",
        "colab": {
          "base_uri": "https://localhost:8080/",
          "height": 295
        },
        "outputId": "2fef4235-0ed0-4b44-af17-a66dcb1e981b"
      },
      "outputs": [
        {
          "output_type": "display_data",
          "data": {
            "image/png": "[encoded data removed]",
            "text/plain": [
              "<Figure size 432x288 with 1 Axes>"
            ]
          },
          "metadata": {
            "needs_background": "light"
          }
        }
      ],
      "source": [
        "### accuracy plots using LSTM model\n",
        "plt.clf()                                                \n",
        "\n",
        "acc = history.history['accuracy']\n",
        "val_acc = history.history['val_accuracy']\n",
        "\n",
        "plt.plot(epochs, acc, 'ro', label='Training Accuracy')\n",
        "plt.plot(epochs, val_acc, 'b', label='Validation Accuracy')\n",
        "plt.title('Training and Validation Accuracy')\n",
        "plt.xlabel('Epochs')\n",
        "plt.ylabel('Accuracy')\n",
        "plt.legend()\n",
        "\n",
        "plt.show()"
      ],
      "id": "6ef1eb82"
    },
    {
      "cell_type": "code",
      "execution_count": 27,
      "metadata": {
        "id": "c01a00ce"
      },
      "outputs": [],
      "source": [
        "model_A.save_weights(\"Model_LSTM.h5\")"
      ],
      "id": "c01a00ce"
    },
    {
      "cell_type": "code",
      "execution_count": 28,
      "metadata": {
        "id": "839bfc65",
        "colab": {
          "base_uri": "https://localhost:8080/"
        },
        "outputId": "7da07763-2ac9-4e0e-db2a-e8288fce198a"
      },
      "outputs": [
        {
          "output_type": "execute_result",
          "data": {
            "text/plain": [
              "(2304, 40, 1)"
            ]
          },
          "metadata": {},
          "execution_count": 28
        }
      ],
      "source": [
        "np.expand_dims(x_train,-1).shape"
      ],
      "id": "839bfc65"
    },
    {
      "cell_type": "markdown",
      "metadata": {
        "id": "oSxBBRcDuw9k"
      },
      "source": [
        "## Audio Recording\n"
      ],
      "id": "oSxBBRcDuw9k"
    },
    {
      "cell_type": "code",
      "execution_count": 29,
      "metadata": {
        "id": "Qb7I67Fr0Q19"
      },
      "outputs": [],
      "source": [
        "# all imports\n",
        "from io import BytesIO\n",
        "from base64 import b64decode\n",
        "from google.colab import output\n",
        "from IPython.display import Javascript\n",
        "\n",
        "RECORD = \"\"\"\n",
        "const sleep  = time => new Promise(resolve => setTimeout(resolve, time))\n",
        "const b2text = blob => new Promise(resolve => {\n",
        "  const reader = new FileReader()\n",
        "  reader.onloadend = e => resolve(e.srcElement.result)\n",
        "  reader.readAsDataURL(blob)\n",
        "})\n",
        "var record = time => new Promise(async resolve => {\n",
        "  stream = await navigator.mediaDevices.getUserMedia({ audio: true })\n",
        "  recorder = new MediaRecorder(stream)\n",
        "  chunks = []\n",
        "  recorder.ondataavailable = e => chunks.push(e.data)\n",
        "  recorder.start()\n",
        "  await sleep(time)\n",
        "  recorder.onstop = async ()=>{\n",
        "    blob = new Blob(chunks)\n",
        "    text = await b2text(blob)\n",
        "    resolve(text)\n",
        "  }\n",
        "  recorder.stop()\n",
        "})\n",
        "\"\"\"\n",
        "\n",
        "def record(sec=3):\n",
        "  print(\"Speak Now...\")\n",
        "  display(Javascript(RECORD))\n",
        "  sec += 1\n",
        "  s = output.eval_js('record(%d)' % (sec*1000))\n",
        "  print(\"Done Recording !\")\n",
        "  b = b64decode(s.split(',')[1])\n",
        "  \n",
        "  with open('audio1.wav','wb') as f:\n",
        "    f.write(b)\n",
        "  return 'audio1.wav'  # or webm ?"
      ],
      "id": "Qb7I67Fr0Q19"
    },
    {
      "cell_type": "code",
      "execution_count": 44,
      "metadata": {
        "id": "aVrQbnCU0fHT",
        "colab": {
          "base_uri": "https://localhost:8080/",
          "height": 52
        },
        "outputId": "c040427e-4515-40c9-b6b3-8c78820dc249"
      },
      "outputs": [
        {
          "output_type": "stream",
          "name": "stdout",
          "text": [
            "Speak Now...\n"
          ]
        },
        {
          "output_type": "display_data",
          "data": {
            "application/javascript": [
              "\n",
              "const sleep  = time => new Promise(resolve => setTimeout(resolve, time))\n",
              "const b2text = blob => new Promise(resolve => {\n",
              "  const reader = new FileReader()\n",
              "  reader.onloadend = e => resolve(e.srcElement.result)\n",
              "  reader.readAsDataURL(blob)\n",
              "})\n",
              "var record = time => new Promise(async resolve => {\n",
              "  stream = await navigator.mediaDevices.getUserMedia({ audio: true })\n",
              "  recorder = new MediaRecorder(stream)\n",
              "  chunks = []\n",
              "  recorder.ondataavailable = e => chunks.push(e.data)\n",
              "  recorder.start()\n",
              "  await sleep(time)\n",
              "  recorder.onstop = async ()=>{\n",
              "    blob = new Blob(chunks)\n",
              "    text = await b2text(blob)\n",
              "    resolve(text)\n",
              "  }\n",
              "  recorder.stop()\n",
              "})\n"
            ],
            "text/plain": [
              "<IPython.core.display.Javascript object>"
            ]
          },
          "metadata": {}
        },
        {
          "output_type": "stream",
          "name": "stdout",
          "text": [
            "Done Recording !\n"
          ]
        }
      ],
      "source": [
        "voice=record(10)"
      ],
      "id": "aVrQbnCU0fHT"
    },
    {
      "cell_type": "code",
      "execution_count": null,
      "metadata": {
        "id": "f2zgC8cl17ED"
      },
      "outputs": [],
      "source": [
        "voice"
      ],
      "id": "f2zgC8cl17ED"
    },
    {
      "cell_type": "code",
      "execution_count": null,
      "metadata": {
        "id": "3zhzKt8Z0roV"
      },
      "outputs": [],
      "source": [
        "type(voice)"
      ],
      "id": "3zhzKt8Z0roV"
    },
    {
      "cell_type": "markdown",
      "metadata": {
        "id": "Vbh59oR87DOV"
      },
      "source": [
        "## Testing Model with new Data"
      ],
      "id": "Vbh59oR87DOV"
    },
    {
      "cell_type": "code",
      "execution_count": 45,
      "metadata": {
        "id": "EGiQOmNlCrHC",
        "colab": {
          "base_uri": "https://localhost:8080/"
        },
        "outputId": "20e037e5-3202-4313-bdda-c8db3faaf333"
      },
      "outputs": [
        {
          "output_type": "stream",
          "name": "stderr",
          "text": [
            "/usr/local/lib/python3.7/dist-packages/librosa/core/audio.py:165: UserWarning: PySoundFile failed. Trying audioread instead.\n",
            "  warnings.warn(\"PySoundFile failed. Trying audioread instead.\")\n"
          ]
        }
      ],
      "source": [
        "data=[]\n",
        "data.append(extract_mfcc('audio1.wav'))"
      ],
      "id": "EGiQOmNlCrHC"
    },
    {
      "cell_type": "code",
      "execution_count": 46,
      "metadata": {
        "id": "cFG8358aFKA3",
        "colab": {
          "base_uri": "https://localhost:8080/"
        },
        "outputId": "8542a587-a76d-4171-ba7b-bffcd549cf1e"
      },
      "outputs": [
        {
          "output_type": "execute_result",
          "data": {
            "text/plain": [
              "[array([-5.0392035e+02,  1.1070257e+02, -1.0957775e+01,  1.3921569e+01,\n",
              "         6.3671994e-01, -1.5734009e+01,  8.2365685e+00, -1.1139078e+01,\n",
              "         3.3706553e+00, -8.5909061e+00, -4.1131797e+00,  4.4639359e+00,\n",
              "         6.4041114e-01,  3.3273101e+00, -4.6976290e+00, -2.5321560e+00,\n",
              "        -5.1349363e+00,  1.7180345e+00, -1.1671022e+01,  3.8867300e+00,\n",
              "        -8.2945518e+00,  3.4498067e+00,  8.2090735e-01,  5.3111715e+00,\n",
              "        -1.5145059e-01,  2.0355778e+00, -4.8285418e+00, -2.8776033e+00,\n",
              "        -1.3195167e+00, -1.8034600e+00, -6.3534327e+00, -3.0588732e+00,\n",
              "        -2.9063013e+00,  1.6535190e+00, -6.2488298e+00, -8.8641465e-01,\n",
              "        -8.9610654e-01,  1.3786274e+00, -6.3886127e+00, -5.2998030e-01],\n",
              "       dtype=float32)]"
            ]
          },
          "metadata": {},
          "execution_count": 46
        }
      ],
      "source": [
        "data"
      ],
      "id": "cFG8358aFKA3"
    },
    {
      "cell_type": "code",
      "execution_count": 47,
      "metadata": {
        "id": "UluLDQQ6FPFH"
      },
      "outputs": [],
      "source": [
        "y=model.predict(data)"
      ],
      "id": "UluLDQQ6FPFH"
    },
    {
      "cell_type": "code",
      "execution_count": 42,
      "metadata": {
        "id": "u_CelTt5zvoK"
      },
      "outputs": [],
      "source": [
        "def get_label(x): \n",
        "  data=x[0]\n",
        "  if(data[0]==1):\n",
        "    print(\"neutral\")\n",
        "  if(data[1]==1):\n",
        "    print(\"calm\")\n",
        "  if(data[2]==1):\n",
        "    print(\"happy\")\n",
        "  if(data[3]==1):\n",
        "    print(\"sad\")\n",
        "  if(data[4]==1):\n",
        "    print(\"angry\")\n",
        "  if(data[5]==1):\n",
        "    print(\"fearful\")\n",
        "  if(data[6]==1):\n",
        "    print(\"disgust\")\n",
        "  if(data[7]==1):\n",
        "    print(\"surprised\")"
      ],
      "id": "u_CelTt5zvoK"
    },
    {
      "cell_type": "code",
      "source": [
        "y"
      ],
      "metadata": {
        "colab": {
          "base_uri": "https://localhost:8080/"
        },
        "id": "Rahf3jEw9BHq",
        "outputId": "e6a1330d-9ab4-4739-948d-362cb77c2b74"
      },
      "id": "Rahf3jEw9BHq",
      "execution_count": 48,
      "outputs": [
        {
          "output_type": "execute_result",
          "data": {
            "text/plain": [
              "array([[0, 0, 0, 0, 1, 0, 0, 0]])"
            ]
          },
          "metadata": {},
          "execution_count": 48
        }
      ]
    },
    {
      "cell_type": "code",
      "source": [
        "y[0][0]"
      ],
      "metadata": {
        "colab": {
          "base_uri": "https://localhost:8080/"
        },
        "id": "bVIz0St29Vip",
        "outputId": "7e5945bc-0aa5-4f30-c038-b10da0b23863"
      },
      "id": "bVIz0St29Vip",
      "execution_count": 41,
      "outputs": [
        {
          "output_type": "execute_result",
          "data": {
            "text/plain": [
              "0"
            ]
          },
          "metadata": {},
          "execution_count": 41
        }
      ]
    },
    {
      "cell_type": "code",
      "source": [
        "get_label(y)"
      ],
      "metadata": {
        "colab": {
          "base_uri": "https://localhost:8080/"
        },
        "id": "Y64Ju0Rp9ETz",
        "outputId": "f8f86cba-60a0-4a5b-869d-da9230e46503"
      },
      "id": "Y64Ju0Rp9ETz",
      "execution_count": 49,
      "outputs": [
        {
          "output_type": "stream",
          "name": "stdout",
          "text": [
            "angry\n"
          ]
        }
      ]
    },
    {
      "cell_type": "code",
      "execution_count": null,
      "metadata": {
        "id": "mQqkRNoD7CSE"
      },
      "outputs": [],
      "source": [
        "reconstructed_model = keras.models.load_model(\"Model_LSTM.h5\")\n",
        "\n",
        "# Let's check:\n",
        "np.testing.assert_allclose(\n",
        "    model.predict(test_input), reconstructed_model.predict(test_input)\n",
        ")\n",
        "\n",
        "# The reconstructed model is already compiled and has retained the optimizer\n",
        "# state, so training can resume:\n",
        "reconstructed_model.fit(test_input, test_target)"
      ],
      "id": "mQqkRNoD7CSE"
    }
  ],
  "metadata": {
    "colab": {
      "collapsed_sections": [],
      "name": "speechemotionrecognitionrnn-ipynb.ipynb",
      "provenance": [],
      "include_colab_link": true
    },
    "kernelspec": {
      "display_name": "Python 3",
      "language": "python",
      "name": "python3"
    },
    "language_info": {
      "codemirror_mode": {
        "name": "ipython",
        "version": 3
      },
      "file_extension": ".py",
      "mimetype": "text/x-python",
      "name": "python",
      "nbconvert_exporter": "python",
      "pygments_lexer": "ipython3",
      "version": "3.7.12"
    },
    "papermill": {
      "default_parameters": {},
      "duration": 1104.696492,
      "end_time": "2022-01-22T15:52:06.104879",
      "environment_variables": {},
      "exception": null,
      "input_path": "__notebook__.ipynb",
      "output_path": "__notebook__.ipynb",
      "parameters": {},
      "start_time": "2022-01-22T15:33:41.408387",
      "version": "2.3.3"
    }
  },
  "nbformat": 4,
  "nbformat_minor": 5
}